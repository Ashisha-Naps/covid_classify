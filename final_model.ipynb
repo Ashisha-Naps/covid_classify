{
 "cells": [
  {
   "cell_type": "code",
   "execution_count": 1,
   "metadata": {},
   "outputs": [],
   "source": [
    "import sys\n",
    "sys.path.append('Covid_Classify/code')\n",
    "import pandas as pd\n",
    "import util\n",
    "import warnings\n",
    "warnings.filterwarnings('ignore')\n",
    "import torch\n",
    "import torch.nn as nn\n",
    "import torch.optim as optim\n",
    "import torch.nn.functional as F\n",
    "import numpy as np\n",
    "import classifynet\n",
    "from sklearn.model_selection import train_test_split\n",
    "from sklearn.preprocessing import OneHotEncoder\n",
    "from sklearn.preprocessing import LabelEncoder, StandardScaler  # Import StandardScaler\n",
    "from sklearn.metrics import confusion_matrix, accuracy_score, classification_report\n",
    "from sklearn.model_selection import train_test_split, cross_val_score  # Import cross_val_score\n",
    "from xgboost import XGBClassifier, plot_importance\n",
    "import matplotlib.pyplot as plt\n",
    "import seaborn as sns\n",
    "import numpy as np\n",
    "import librosa\n",
    "from sklearn.metrics import accuracy_score, classification_report"
   ]
  },
  {
   "cell_type": "code",
   "execution_count": 2,
   "metadata": {},
   "outputs": [],
   "source": [
    "df = pd.read_csv('metadata_compiled.csv')\n",
    "df_filtered = df[['uuid','status']]\n",
    "df_filtered = df_filtered.dropna()"
   ]
  },
  {
   "cell_type": "code",
   "execution_count": 3,
   "metadata": {},
   "outputs": [],
   "source": [
    "x = []\n",
    "y = []\n",
    "features,label = util.filterdf(df_filtered,'symptomatic','Audio')\n",
    "x += features\n",
    "y += label\n",
    "features,label = util.filterdf(df_filtered,'symptomatic','Audio')\n",
    "x += features\n",
    "y += label\n",
    "features,label = util.filterdf(df_filtered,'healthy','Audio')\n",
    "x += features\n",
    "y += label"
   ]
  },
  {
   "cell_type": "code",
   "execution_count": 61,
   "metadata": {},
   "outputs": [],
   "source": [
    "from imblearn.over_sampling import SMOTE\n",
    "\n",
    "smote=SMOTE()\n",
    "x, y = smote.fit_resample(x, y)\n",
    "# Normalize the features using StandardScaler\n",
    "scaler = StandardScaler() \n",
    "x = scaler.fit_transform(x)"
   ]
  },
  {
   "cell_type": "code",
   "execution_count": null,
   "metadata": {},
   "outputs": [],
   "source": [
    "X_arr = np.array(x)  # Convert to numpy array\n",
    "Y_arr = np.array(y)  # Convert to numpy array\n",
    "\n",
    "# Check if X and y are populated correctly\n",
    "print(f\"Number of feature vectors: {len(X_arr)}\")\n",
    "print(f\"Number of labels: {len(Y_arr)}\")\n",
    "\n",
    "\n",
    "if len(X_arr) > 0:\n",
    "    print(f\"Sample features: {X_arr[0]}\")\n",
    "    print(f\"Sample label: {Y_arr[0]}\")"
   ]
  },
  {
   "cell_type": "code",
   "execution_count": 63,
   "metadata": {},
   "outputs": [],
   "source": [
    "# Label encode the genre labels\n",
    "label_encoder = LabelEncoder()\n",
    "Y_arr = label_encoder.fit_transform(Y_arr)  # Converts genre names to numeric labels\n",
    "#y_test_encoded = label_encoder.transform(Y_test)\n",
    "X_train,X_test,Y_train,Y_test = train_test_split(X_arr, Y_arr, test_size=0.2, random_state=0)\n"
   ]
  },
  {
   "cell_type": "code",
   "execution_count": null,
   "metadata": {},
   "outputs": [],
   "source": [
    "model = XGBClassifier(use_label_encoder=False, eval_metric='auc')\n",
    "\n",
    "# Perform cross-validation\n",
    "cv_scores = cross_val_score(model, X_train, Y_train, cv=5)  # Using 5-fold cross-validation\n",
    "print(f'Cross-Validation Scores: {cv_scores}')\n",
    "print(f'Mean Cross-Validation Score: {np.mean(cv_scores):.2f}')\n",
    "\n",
    "# Fit the model on the full training set after cross-validation\n",
    "model.fit(X_train, Y_train)\n",
    "\n",
    "# Make predictions on the test set\n",
    "y_pred = model.predict(X_test)\n",
    "\n",
    "# Decode predictions back to genre names\n",
    "y_pred_decoded = label_encoder.inverse_transform(y_pred)\n",
    "y_test_decoded = label_encoder.inverse_transform(Y_test)"
   ]
  },
  {
   "cell_type": "code",
   "execution_count": null,
   "metadata": {},
   "outputs": [],
   "source": [
    "# Calculate accuracy\n",
    "accuracy = accuracy_score(Y_test, y_pred)\n",
    "print(f'Accuracy: {accuracy:.2f}')\n",
    "\n",
    "# Print classification report\n",
    "print(classification_report(Y_test, y_pred, target_names=label_encoder.classes_))\n",
    "\n",
    "# Confusion Matrix Visualization\n",
    "conf_matrix = confusion_matrix(Y_test, y_pred)\n",
    "plt.figure(figsize=(10, 8))\n",
    "sns.heatmap(conf_matrix, annot=True, fmt='d', cmap='Blues', xticklabels=label_encoder.classes_, yticklabels=label_encoder.classes_)\n",
    "plt.ylabel('Actual')\n",
    "plt.xlabel('Predicted')\n",
    "plt.title('Confusion Matrix: Actual vs Predicted')\n",
    "plt.show()\n",
    "\n",
    "# Plot Feature Importance\n",
    "plt.figure(figsize=(12, 10))\n",
    "plot_importance(model, max_num_features=10, importance_type='weight')  # Adjust max_num_features as needed\n",
    "plt.title('Feature Importance')\n",
    "plt.show()"
   ]
  },
  {
   "cell_type": "code",
   "execution_count": null,
   "metadata": {},
   "outputs": [],
   "source": [
    "X_new = util.audio_vec('fffce9f0-a5e8-4bee-b13b-c671aac4a61c.webm','Audio',train=0)\n",
    "print(X_new)\n",
    "scaler = StandardScaler() \n",
    "X_train_ = scaler.fit_transform(X_new.reshape(1,-1))\n",
    "y_pred = model.predict(X_train_)\n",
    "print(y_pred)\n",
    "# Decode predictions back to genre names\n",
    "y_pred_decoded = label_encoder.inverse_transform(y_pred)\n",
    "y_pred_decoded"
   ]
  },
  {
   "cell_type": "code",
   "execution_count": 12,
   "metadata": {},
   "outputs": [],
   "source": [
    "model.save_model('covid_classify.json')\n",
    "np.save('classes.npy', label_encoder.classes_)"
   ]
  }
 ],
 "metadata": {
  "kernelspec": {
   "display_name": ".venv",
   "language": "python",
   "name": "python3"
  },
  "language_info": {
   "codemirror_mode": {
    "name": "ipython",
    "version": 3
   },
   "file_extension": ".py",
   "mimetype": "text/x-python",
   "name": "python",
   "nbconvert_exporter": "python",
   "pygments_lexer": "ipython3",
   "version": "3.9.6"
  }
 },
 "nbformat": 4,
 "nbformat_minor": 2
}
